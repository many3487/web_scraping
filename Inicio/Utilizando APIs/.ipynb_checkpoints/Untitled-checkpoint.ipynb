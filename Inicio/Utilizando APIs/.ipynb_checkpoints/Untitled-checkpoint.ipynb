{
 "cells": [
  {
   "cell_type": "code",
   "execution_count": 5,
   "id": "4efe27be",
   "metadata": {},
   "outputs": [],
   "source": [
    "url_base='https://api.vagalume.com.br/'#api"
   ]
  },
  {
   "cell_type": "code",
   "execution_count": 6,
   "id": "c074f467",
   "metadata": {},
   "outputs": [],
   "source": [
    "ep_artist='search.art{artist_id}'#este será el endpoint del artista"
   ]
  },
  {
   "cell_type": "code",
   "execution_count": 7,
   "id": "8bcb9a32",
   "metadata": {},
   "outputs": [],
   "source": [
    "id_im='?q=iron-maiden' #aquí iria el id del artista "
   ]
  },
  {
   "cell_type": "code",
   "execution_count": 15,
   "id": "db4c055f",
   "metadata": {},
   "outputs": [
    {
     "data": {
      "text/plain": [
       "'https://api.vagalume.com.br/search.art?q=iron-maiden&limit=5'"
      ]
     },
     "execution_count": 15,
     "metadata": {},
     "output_type": "execute_result"
    }
   ],
   "source": [
    "url_base+ep_artist.format(artist_id=id_im)"
   ]
  },
  {
   "cell_type": "raw",
   "id": "6d4a3cf7",
   "metadata": {},
   "source": [
    "importo requests esto se hace con una api cualquiera\n",
    "'https://api.vagalume.com.br/search.art?q=iron-maiden&limit=5'"
   ]
  },
  {
   "cell_type": "code",
   "execution_count": 10,
   "id": "b0bf400b",
   "metadata": {},
   "outputs": [],
   "source": [
    "import requests"
   ]
  },
  {
   "cell_type": "code",
   "execution_count": 11,
   "id": "389bdb05",
   "metadata": {},
   "outputs": [],
   "source": [
    "r = requests.get(url_base+ep_artist.format(artist_id=id_im))"
   ]
  },
  {
   "cell_type": "code",
   "execution_count": 12,
   "id": "cc11a535",
   "metadata": {},
   "outputs": [
    {
     "data": {
      "text/plain": [
       "<Response [200]>"
      ]
     },
     "execution_count": 12,
     "metadata": {},
     "output_type": "execute_result"
    }
   ],
   "source": [
    "r"
   ]
  },
  {
   "cell_type": "code",
   "execution_count": 16,
   "id": "ecc0d99a",
   "metadata": {},
   "outputs": [
    {
     "data": {
      "text/plain": [
       "{'response': {'numFound': 48,\n",
       "  'start': 0,\n",
       "  'numFoundExact': True,\n",
       "  'docs': [{'id': 'b3ade68b5g8227eda3',\n",
       "    'url': '/iron-maiden/',\n",
       "    'band': 'Iron Maiden',\n",
       "    'fmRadios': ['1464201608479108132|rock',\n",
       "     '1476127912612917|rock-de-bowie-ao-seculo-21',\n",
       "     '1477074894405450|halloween',\n",
       "     '1477328440623592|musicas-que-fizeram-historia',\n",
       "     '1479752883943544|heavy-metal']},\n",
       "   {'id': 'b3ade68b7gf82a0ea3',\n",
       "    'url': '/rozen-maiden/',\n",
       "    'band': 'Rozen Maiden'},\n",
       "   {'id': 'b3ade68b7gcd5f3ea3',\n",
       "    'url': '/photon-maiden/',\n",
       "    'band': 'Photon Maiden'},\n",
       "   {'id': 'b3ade68b7gf8912ea3',\n",
       "    'url': '/rozen-maiden-megu/',\n",
       "    'band': 'Rozen Maiden Megu'},\n",
       "   {'id': 'b3ade68b7g00ea2ea3',\n",
       "    'url': '/iron-sharpens-iron/',\n",
       "    'band': 'Iron Sharpens Iron'}]},\n",
       " 'highlighting': {'b3ade68b5g8227eda3': {},\n",
       "  'b3ade68b7gf82a0ea3': {},\n",
       "  'b3ade68b7gcd5f3ea3': {},\n",
       "  'b3ade68b7gf8912ea3': {},\n",
       "  'b3ade68b7g00ea2ea3': {}}}"
      ]
     },
     "execution_count": 16,
     "metadata": {},
     "output_type": "execute_result"
    }
   ],
   "source": [
    "r.json()"
   ]
  },
  {
   "cell_type": "code",
   "execution_count": 17,
   "id": "fe878b8c",
   "metadata": {},
   "outputs": [],
   "source": [
    "import pandas as pd\n"
   ]
  },
  {
   "cell_type": "code",
   "execution_count": null,
   "id": "fe636c8e",
   "metadata": {},
   "outputs": [],
   "source": []
  },
  {
   "cell_type": "code",
   "execution_count": null,
   "id": "dedd79e9",
   "metadata": {},
   "outputs": [],
   "source": []
  },
  {
   "cell_type": "code",
   "execution_count": null,
   "id": "f56e5490",
   "metadata": {},
   "outputs": [],
   "source": []
  },
  {
   "cell_type": "code",
   "execution_count": null,
   "id": "37159475",
   "metadata": {},
   "outputs": [],
   "source": []
  }
 ],
 "metadata": {
  "kernelspec": {
   "display_name": "Python 3 (ipykernel)",
   "language": "python",
   "name": "python3"
  },
  "language_info": {
   "codemirror_mode": {
    "name": "ipython",
    "version": 3
   },
   "file_extension": ".py",
   "mimetype": "text/x-python",
   "name": "python",
   "nbconvert_exporter": "python",
   "pygments_lexer": "ipython3",
   "version": "3.9.12"
  }
 },
 "nbformat": 4,
 "nbformat_minor": 5
}
