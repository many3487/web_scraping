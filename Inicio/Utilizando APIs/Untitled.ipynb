{
 "cells": [
  {
   "cell_type": "code",
   "execution_count": 5,
   "id": "11d67853",
   "metadata": {},
   "outputs": [],
   "source": [
    "url_base='https://api.vagalume.com.br/'#api"
   ]
  },
  {
   "cell_type": "code",
   "execution_count": 6,
   "id": "56b8c50d",
   "metadata": {},
   "outputs": [],
   "source": [
    "ep_artist='search.art{artist_id}'#este será el endpoint del artista"
   ]
  },
  {
   "cell_type": "code",
   "execution_count": 49,
   "id": "f158ce93",
   "metadata": {},
   "outputs": [],
   "source": [
    "id_im='?q=skank' #aquí iria el id del artista "
   ]
  },
  {
   "cell_type": "code",
   "execution_count": 50,
   "id": "45f52e5d",
   "metadata": {},
   "outputs": [
    {
     "data": {
      "text/plain": [
       "'https://api.vagalume.com.br/search.art?q=skank'"
      ]
     },
     "execution_count": 50,
     "metadata": {},
     "output_type": "execute_result"
    }
   ],
   "source": [
    "url_base+ep_artist.format(artist_id=id_im)"
   ]
  },
  {
   "cell_type": "raw",
   "id": "592f1098",
   "metadata": {},
   "source": [
    "importo requests esto se hace con una api cualquiera\n",
    "'https://api.vagalume.com.br/search.art?q=iron-maiden&limit=5'"
   ]
  },
  {
   "cell_type": "code",
   "execution_count": 51,
   "id": "a520ebd7",
   "metadata": {},
   "outputs": [],
   "source": [
    "import requests"
   ]
  },
  {
   "cell_type": "code",
   "execution_count": 52,
   "id": "87c18330",
   "metadata": {},
   "outputs": [],
   "source": [
    "r = requests.get(url_base+ep_artist.format(artist_id=id_im))"
   ]
  },
  {
   "cell_type": "code",
   "execution_count": 53,
   "id": "96eefc66",
   "metadata": {},
   "outputs": [
    {
     "data": {
      "text/plain": [
       "<Response [200]>"
      ]
     },
     "execution_count": 53,
     "metadata": {},
     "output_type": "execute_result"
    }
   ],
   "source": [
    "r"
   ]
  },
  {
   "cell_type": "code",
   "execution_count": 54,
   "id": "76b7db1e",
   "metadata": {},
   "outputs": [
    {
     "data": {
      "text/plain": [
       "{'response': {'numFound': 2,\n",
       "  'start': 0,\n",
       "  'numFoundExact': True,\n",
       "  'docs': [{'id': 'b3ade68b3g8e86eda3',\n",
       "    'url': '/skank/',\n",
       "    'band': 'Skank',\n",
       "    'fmRadios': ['14623883771774082279|vagalume-vibe',\n",
       "     '14671417541091220806|pop-rock-br',\n",
       "     '1470169276225492|pop-nacional',\n",
       "     '1474482422796242|ferias',\n",
       "     '1487701935336993|musicas-para-relaxar',\n",
       "     '1506975770142563|pop-rock',\n",
       "     '1508779923321353|para-viajar',\n",
       "     '1521491976152594|letras-conhecidas',\n",
       "     '1522261529679510|depre',\n",
       "     '1524081924608496|nostalgia-anos-2000',\n",
       "     '1528233925925603|dia-dos-namorados',\n",
       "     '1528745033453663|clima-de-copa',\n",
       "     '1534352328636564|skank']},\n",
       "   {'id': 'b3ade68b5g2b97eda3',\n",
       "    'url': '/skankin-pickle/',\n",
       "    'band': \"Skankin' Pickle\"}]},\n",
       " 'highlighting': {'b3ade68b3g8e86eda3': {}, 'b3ade68b5g2b97eda3': {}}}"
      ]
     },
     "execution_count": 54,
     "metadata": {},
     "output_type": "execute_result"
    }
   ],
   "source": [
    "r.json()"
   ]
  },
  {
   "cell_type": "code",
   "execution_count": 55,
   "id": "1c839f44",
   "metadata": {},
   "outputs": [],
   "source": [
    "import pandas as pd\n"
   ]
  },
  {
   "cell_type": "raw",
   "id": "90ba4b5e",
   "metadata": {},
   "source": [
    "importo padas que es un data frame "
   ]
  },
  {
   "cell_type": "code",
   "execution_count": 56,
   "id": "36a7b92c",
   "metadata": {},
   "outputs": [
    {
     "data": {
      "text/html": [
       "<div>\n",
       "<style scoped>\n",
       "    .dataframe tbody tr th:only-of-type {\n",
       "        vertical-align: middle;\n",
       "    }\n",
       "\n",
       "    .dataframe tbody tr th {\n",
       "        vertical-align: top;\n",
       "    }\n",
       "\n",
       "    .dataframe thead th {\n",
       "        text-align: right;\n",
       "    }\n",
       "</style>\n",
       "<table border=\"1\" class=\"dataframe\">\n",
       "  <thead>\n",
       "    <tr style=\"text-align: right;\">\n",
       "      <th></th>\n",
       "      <th>id</th>\n",
       "      <th>url</th>\n",
       "      <th>band</th>\n",
       "      <th>fmRadios</th>\n",
       "    </tr>\n",
       "  </thead>\n",
       "  <tbody>\n",
       "    <tr>\n",
       "      <th>0</th>\n",
       "      <td>b3ade68b3g8e86eda3</td>\n",
       "      <td>/skank/</td>\n",
       "      <td>Skank</td>\n",
       "      <td>[14623883771774082279|vagalume-vibe, 146714175...</td>\n",
       "    </tr>\n",
       "    <tr>\n",
       "      <th>1</th>\n",
       "      <td>b3ade68b5g2b97eda3</td>\n",
       "      <td>/skankin-pickle/</td>\n",
       "      <td>Skankin' Pickle</td>\n",
       "      <td>NaN</td>\n",
       "    </tr>\n",
       "  </tbody>\n",
       "</table>\n",
       "</div>"
      ],
      "text/plain": [
       "                   id               url             band  \\\n",
       "0  b3ade68b3g8e86eda3           /skank/            Skank   \n",
       "1  b3ade68b5g2b97eda3  /skankin-pickle/  Skankin' Pickle   \n",
       "\n",
       "                                            fmRadios  \n",
       "0  [14623883771774082279|vagalume-vibe, 146714175...  \n",
       "1                                                NaN  "
      ]
     },
     "execution_count": 56,
     "metadata": {},
     "output_type": "execute_result"
    }
   ],
   "source": [
    "df= pd.DataFrame(r.json()['response']['docs'])\n",
    "df.head()\n",
    "#el data frame lo que hago es, quedarme con la respuesta principal que es la respuesta y de allí tomo l os documentos en el cual me aparecera la banda con el id y una url"
   ]
  },
  {
   "cell_type": "code",
   "execution_count": 57,
   "id": "9519a874",
   "metadata": {},
   "outputs": [
    {
     "data": {
      "text/html": [
       "<div>\n",
       "<style scoped>\n",
       "    .dataframe tbody tr th:only-of-type {\n",
       "        vertical-align: middle;\n",
       "    }\n",
       "\n",
       "    .dataframe tbody tr th {\n",
       "        vertical-align: top;\n",
       "    }\n",
       "\n",
       "    .dataframe thead th {\n",
       "        text-align: right;\n",
       "    }\n",
       "</style>\n",
       "<table border=\"1\" class=\"dataframe\">\n",
       "  <thead>\n",
       "    <tr style=\"text-align: right;\">\n",
       "      <th></th>\n",
       "      <th>id</th>\n",
       "      <th>url</th>\n",
       "      <th>band</th>\n",
       "      <th>fmRadios</th>\n",
       "    </tr>\n",
       "  </thead>\n",
       "  <tbody>\n",
       "    <tr>\n",
       "      <th>0</th>\n",
       "      <td>b3ade68b3g8e86eda3</td>\n",
       "      <td>/skank/</td>\n",
       "      <td>Skank</td>\n",
       "      <td>[14623883771774082279|vagalume-vibe, 146714175...</td>\n",
       "    </tr>\n",
       "    <tr>\n",
       "      <th>1</th>\n",
       "      <td>b3ade68b5g2b97eda3</td>\n",
       "      <td>/skankin-pickle/</td>\n",
       "      <td>Skankin' Pickle</td>\n",
       "      <td>NaN</td>\n",
       "    </tr>\n",
       "  </tbody>\n",
       "</table>\n",
       "</div>"
      ],
      "text/plain": [
       "                   id               url             band  \\\n",
       "0  b3ade68b3g8e86eda3           /skank/            Skank   \n",
       "1  b3ade68b5g2b97eda3  /skankin-pickle/  Skankin' Pickle   \n",
       "\n",
       "                                            fmRadios  \n",
       "0  [14623883771774082279|vagalume-vibe, 146714175...  \n",
       "1                                                NaN  "
      ]
     },
     "execution_count": 57,
     "metadata": {},
     "output_type": "execute_result"
    }
   ],
   "source": [
    "df.sort_values(by='band', ascending=True) #con esto ordeno la tabla "
   ]
  },
  {
   "cell_type": "code",
   "execution_count": 58,
   "id": "b873c05d",
   "metadata": {},
   "outputs": [
    {
     "data": {
      "text/plain": [
       "id                                         b3ade68b3g8e86eda3\n",
       "url                                                   /skank/\n",
       "band                                                    Skank\n",
       "fmRadios    [14623883771774082279|vagalume-vibe, 146714175...\n",
       "Name: 0, dtype: object"
      ]
     },
     "execution_count": 58,
     "metadata": {},
     "output_type": "execute_result"
    }
   ],
   "source": [
    "df.sort_values(by='band', ascending=True).iloc[0]#con esto me quedaría con el primer elemento de la tabla y con todos sus componentes"
   ]
  },
  {
   "cell_type": "code",
   "execution_count": 59,
   "id": "e0863ed2",
   "metadata": {},
   "outputs": [
    {
     "data": {
      "text/plain": [
       "'b3ade68b3g8e86eda3'"
      ]
     },
     "execution_count": 59,
     "metadata": {},
     "output_type": "execute_result"
    }
   ],
   "source": [
    "df.sort_values(by='band', ascending=True).iloc[0]['id']#con esto solo me quedo con el id del artista"
   ]
  },
  {
   "cell_type": "code",
   "execution_count": 42,
   "id": "bcfe26a8",
   "metadata": {},
   "outputs": [
    {
     "data": {
      "text/plain": [
       "'https://api.vagalume.com.br/'"
      ]
     },
     "execution_count": 42,
     "metadata": {},
     "output_type": "execute_result"
    }
   ],
   "source": [
    "EP_albums='/'"
   ]
  },
  {
   "cell_type": "code",
   "execution_count": null,
   "id": "ca501ebc",
   "metadata": {},
   "outputs": [],
   "source": [
    "url_base"
   ]
  },
  {
   "cell_type": "code",
   "execution_count": 60,
   "id": "db7030ce",
   "metadata": {},
   "outputs": [],
   "source": [
    "import IPython.display as ipd"
   ]
  },
  {
   "cell_type": "code",
   "execution_count": null,
   "id": "ab361ffb",
   "metadata": {},
   "outputs": [],
   "source": [
    "ipd.Audio()#reproduce audio y video dentro de los parentesis "
   ]
  },
  {
   "cell_type": "code",
   "execution_count": null,
   "id": "9bca249d",
   "metadata": {},
   "outputs": [],
   "source": []
  }
 ],
 "metadata": {
  "kernelspec": {
   "display_name": "Python 3 (ipykernel)",
   "language": "python",
   "name": "python3"
  },
  "language_info": {
   "codemirror_mode": {
    "name": "ipython",
    "version": 3
   },
   "file_extension": ".py",
   "mimetype": "text/x-python",
   "name": "python",
   "nbconvert_exporter": "python",
   "pygments_lexer": "ipython3",
   "version": "3.9.12"
  }
 },
 "nbformat": 4,
 "nbformat_minor": 5
}
