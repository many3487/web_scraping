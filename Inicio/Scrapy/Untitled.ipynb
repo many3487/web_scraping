{
 "cells": [
  {
   "cell_type": "raw",
   "id": "7920acbd",
   "metadata": {},
   "source": [
    "Scraping"
   ]
  },
  {
   "cell_type": "raw",
   "id": "4afc2a41",
   "metadata": {},
   "source": [
    "con scrapi se puede escrapear varias paginas al tiempo  permite trabajar con xpath  en vez de con beatifoulsoup , se pueden setear las demoras  se pueden limitar los dominios"
   ]
  },
  {
   "cell_type": "code",
   "execution_count": 1,
   "id": "e7f7774b",
   "metadata": {},
   "outputs": [],
   "source": [
    "import scrapy# importamos scrapy, si en tal caso, no funciona, se debe hacer la instalación de scrapy con pip install scrapy "
   ]
  },
  {
   "cell_type": "code",
   "execution_count": 11,
   "id": "ae812dc5",
   "metadata": {},
   "outputs": [],
   "source": [
    "class Spider12(scrapy.Spider): #se usa el 12 ya que va a scrapear pagina12\n",
    "    name = 'spider12'#acontinuación se ponen los dominios a scrapear \n",
    "    allowed_domains = ['https://www.pagina12.com.ar/']#aquí va el nombre del dominio a escrapear se pueden pasar varias páginas, ya que\n",
    "    #lo que se le esta pasando es una lista, lo que este fuera de este dominio no lo escaneará\n",
    "    custom_settings={'FEED_FORMAT': 'json',\n",
    "                    'FEED_URI':'resultados.json',\n",
    "                    'DEPTH_LIMIT':2}\n",
    "    #el feed fotmat sirve para decirle en que tipo de archivo de salida \n",
    "    #luego de solicitar el tipo de archivo de salida, se le indica donde se quiere guardar el archivo, esto se hace con una coma para que se ponga donde \n",
    "    #ya con esto se pone las urls que se quieren analizar, dentro de pagina12.com o de la pagina que se requiera\n",
    "    #con DEPTH_LIMIT le digo cuantas veces quiero que haga el recorrido de la pagina es decir en este caso solo revisará dos paginas y continuará conb el otro \n",
    "    start_urls= ['https://www.pagina12.com.ar/suplementos/radar-libros',\n",
    "                 'https://www.pagina12.com.ar/suplementos/cash',\n",
    "                 'https://www.pagina12.com.ar/suplementos/radar',\n",
    "                 'https://www.pagina12.com.ar/buenos-aires12']\n",
    "    \n",
    "    def parse(self, response): #un metodo que se recibe a si mismo \n",
    "        '''\n",
    "        este metodo procesa la respuesta de cada solicitud de cada una de las solicitudes \n",
    "        que se hicieron a las urls ()lista anterior   a medida que lleguen las respuestas llamará el metodo y pasará las respuestas \n",
    "        '''\n",
    "        #articulo promocionado\n",
    "        nota_promocionada = response.xpath(\"//div[@class='column medium-10 center-block-md large-8']\").get()\n",
    "        if nota_promocionada is not None:\n",
    "            yield response.follow(nota_promocionada, callback=self.parse_nota)\n",
    "        #listado de notas\n",
    "        notas = response.xpath(\"//ul[@class='article-list']//li//a/@href\").getall()\n",
    "        for nota in notas:\n",
    "            yield response.follow(nota, callback =self.parse_nota)\n",
    "        #link a la siguiente página\n",
    "        next_page = response.xpath(\"//a[@class='next']/@href\")\n",
    "        if next_page is not Node:\n",
    "            yield response.follow(next_page, callback = self.parse)#aquí estoy llamando a la función parse, es decir esta  es una función que se llama así misma\n",
    "            \n",
    "            \n",
    "            \n",
    "    def parse_nota(self, response):\n",
    "        print('fechanota: ')\n",
    "        date_nota = response.xpath(\"//div[@class='article-info']\").get()\n",
    "        \n",
    "        \n",
    "        \n"
   ]
  },
  {
   "cell_type": "code",
   "execution_count": 14,
   "id": "140ee1b7",
   "metadata": {},
   "outputs": [],
   "source": [
    "from scrapy.crawler import CrawlerProcess"
   ]
  },
  {
   "cell_type": "code",
   "execution_count": 15,
   "id": "640e0d6b",
   "metadata": {},
   "outputs": [
    {
     "name": "stderr",
     "output_type": "stream",
     "text": [
      "2023-05-05 16:13:48 [scrapy.utils.log] INFO: Scrapy 2.6.1 started (bot: scrapybot)\n",
      "2023-05-05 16:13:48 [scrapy.utils.log] INFO: Versions: lxml 4.8.0.0, libxml2 2.9.12, cssselect 1.1.0, parsel 1.6.0, w3lib 1.21.0, Twisted 22.2.0, Python 3.9.12 (main, Apr  4 2022, 05:22:27) [MSC v.1916 64 bit (AMD64)], pyOpenSSL 21.0.0 (OpenSSL 1.1.1n  15 Mar 2022), cryptography 3.4.8, Platform Windows-10-10.0.19044-SP0\n",
      "2023-05-05 16:13:48 [scrapy.crawler] INFO: Overridden settings:\n",
      "{}\n",
      "2023-05-05 16:13:48 [scrapy.utils.log] DEBUG: Using reactor: twisted.internet.selectreactor.SelectReactor\n",
      "2023-05-05 16:13:48 [scrapy.extensions.telnet] INFO: Telnet Password: fedd10adfb732769\n",
      "2023-05-05 16:13:48 [py.warnings] WARNING: C:\\Users\\ASUS\\anaconda3\\lib\\site-packages\\scrapy\\extensions\\feedexport.py:289: ScrapyDeprecationWarning: The `FEED_URI` and `FEED_FORMAT` settings have been deprecated in favor of the `FEEDS` setting. Please see the `FEEDS` setting docs for more details\n",
      "  exporter = cls(crawler)\n",
      "\n",
      "2023-05-05 16:13:48 [scrapy.middleware] INFO: Enabled extensions:\n",
      "['scrapy.extensions.corestats.CoreStats',\n",
      " 'scrapy.extensions.telnet.TelnetConsole',\n",
      " 'scrapy.extensions.feedexport.FeedExporter',\n",
      " 'scrapy.extensions.logstats.LogStats']\n",
      "2023-05-05 16:13:48 [scrapy.middleware] INFO: Enabled downloader middlewares:\n",
      "['scrapy.downloadermiddlewares.httpauth.HttpAuthMiddleware',\n",
      " 'scrapy.downloadermiddlewares.downloadtimeout.DownloadTimeoutMiddleware',\n",
      " 'scrapy.downloadermiddlewares.defaultheaders.DefaultHeadersMiddleware',\n",
      " 'scrapy.downloadermiddlewares.useragent.UserAgentMiddleware',\n",
      " 'scrapy.downloadermiddlewares.retry.RetryMiddleware',\n",
      " 'scrapy.downloadermiddlewares.redirect.MetaRefreshMiddleware',\n",
      " 'scrapy.downloadermiddlewares.httpcompression.HttpCompressionMiddleware',\n",
      " 'scrapy.downloadermiddlewares.redirect.RedirectMiddleware',\n",
      " 'scrapy.downloadermiddlewares.cookies.CookiesMiddleware',\n",
      " 'scrapy.downloadermiddlewares.httpproxy.HttpProxyMiddleware',\n",
      " 'scrapy.downloadermiddlewares.stats.DownloaderStats']\n",
      "2023-05-05 16:13:48 [scrapy.middleware] INFO: Enabled spider middlewares:\n",
      "['scrapy.spidermiddlewares.httperror.HttpErrorMiddleware',\n",
      " 'scrapy.spidermiddlewares.offsite.OffsiteMiddleware',\n",
      " 'scrapy.spidermiddlewares.referer.RefererMiddleware',\n",
      " 'scrapy.spidermiddlewares.urllength.UrlLengthMiddleware',\n",
      " 'scrapy.spidermiddlewares.depth.DepthMiddleware']\n",
      "2023-05-05 16:13:48 [scrapy.middleware] INFO: Enabled item pipelines:\n",
      "[]\n",
      "2023-05-05 16:13:48 [scrapy.core.engine] INFO: Spider opened\n",
      "2023-05-05 16:13:48 [scrapy.extensions.logstats] INFO: Crawled 0 pages (at 0 pages/min), scraped 0 items (at 0 items/min)\n",
      "2023-05-05 16:13:48 [py.warnings] WARNING: C:\\Users\\ASUS\\anaconda3\\lib\\site-packages\\scrapy\\spidermiddlewares\\offsite.py:65: URLWarning: allowed_domains accepts only domains, not URLs. Ignoring URL entry https://www.pagina12.com.ar/ in allowed_domains.\n",
      "  warnings.warn(message, URLWarning)\n",
      "\n",
      "2023-05-05 16:13:48 [scrapy.extensions.telnet] INFO: Telnet console listening on 127.0.0.1:6023\n"
     ]
    },
    {
     "data": {
      "text/plain": [
       "<bound method CrawlerProcess.start of <scrapy.crawler.CrawlerProcess object at 0x00000242414E9FA0>>"
      ]
     },
     "execution_count": 15,
     "metadata": {},
     "output_type": "execute_result"
    }
   ],
   "source": [
    "process = CrawlerProcess()\n",
    "process.crawl(Spider12)\n",
    "process.start"
   ]
  },
  {
   "cell_type": "code",
   "execution_count": null,
   "id": "a7aeea7b",
   "metadata": {},
   "outputs": [],
   "source": [
    "esto se puede correr desde visual aui saldrá tambien si hay una segunda pagina que se navega la ignorará y no navegará "
   ]
  },
  {
   "cell_type": "code",
   "execution_count": null,
   "id": "399b8866",
   "metadata": {},
   "outputs": [],
   "source": []
  }
 ],
 "metadata": {
  "kernelspec": {
   "display_name": "Python 3 (ipykernel)",
   "language": "python",
   "name": "python3"
  },
  "language_info": {
   "codemirror_mode": {
    "name": "ipython",
    "version": 3
   },
   "file_extension": ".py",
   "mimetype": "text/x-python",
   "name": "python",
   "nbconvert_exporter": "python",
   "pygments_lexer": "ipython3",
   "version": "3.9.12"
  }
 },
 "nbformat": 4,
 "nbformat_minor": 5
}
