{
 "cells": [
  {
   "cell_type": "raw",
   "id": "1ee2e9b3",
   "metadata": {},
   "source": [
    "Scraping"
   ]
  },
  {
   "cell_type": "raw",
   "id": "a6a44bea",
   "metadata": {},
   "source": [
    "con scrapi se puede escrapear varias paginas al tiempo  permite trabajar con xpath  en vez de con beatifoulsoup , se pueden setear las demoras  se pueden limitar los dominios"
   ]
  },
  {
   "cell_type": "code",
   "execution_count": 1,
   "id": "b96ef1a3",
   "metadata": {},
   "outputs": [],
   "source": [
    "import scrapy# importamos scrapy, si en tal caso, no funciona, se debe hacer la instalación de scrapy con pip install scrapy "
   ]
  },
  {
   "cell_type": "code",
   "execution_count": null,
   "id": "d225137d",
   "metadata": {},
   "outputs": [],
   "source": [
    "class Spider12(scrapy.Spider): se usa el 12 ya que va a scrapear pagina12\n",
    "    name = 'spider12'#acontinuación se ponen los dominios a scrapear \n",
    "    allowed_domains = ['']#aquí va el nombre del dominio a escrapear\n",
    "    "
   ]
  },
  {
   "cell_type": "code",
   "execution_count": null,
   "id": "dfea6ab9",
   "metadata": {},
   "outputs": [],
   "source": []
  },
  {
   "cell_type": "code",
   "execution_count": null,
   "id": "824e2efc",
   "metadata": {},
   "outputs": [],
   "source": []
  },
  {
   "cell_type": "code",
   "execution_count": null,
   "id": "3dd3ce8d",
   "metadata": {},
   "outputs": [],
   "source": []
  },
  {
   "cell_type": "code",
   "execution_count": null,
   "id": "e0c978ee",
   "metadata": {},
   "outputs": [],
   "source": []
  }
 ],
 "metadata": {
  "kernelspec": {
   "display_name": "Python 3 (ipykernel)",
   "language": "python",
   "name": "python3"
  },
  "language_info": {
   "codemirror_mode": {
    "name": "ipython",
    "version": 3
   },
   "file_extension": ".py",
   "mimetype": "text/x-python",
   "name": "python",
   "nbconvert_exporter": "python",
   "pygments_lexer": "ipython3",
   "version": "3.9.12"
  }
 },
 "nbformat": 4,
 "nbformat_minor": 5
}
