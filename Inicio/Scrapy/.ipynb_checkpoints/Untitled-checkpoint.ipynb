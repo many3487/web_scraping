{
 "cells": [
  {
   "cell_type": "raw",
   "id": "8a243d04",
   "metadata": {},
   "source": [
    "Scraping"
   ]
  },
  {
   "cell_type": "raw",
   "id": "72cc00b6",
   "metadata": {},
   "source": [
    "con scrapi se puede escrapear varias paginas al tiempo  permite trabajar con xpath  en vez de con beatifoulsoup , se pueden setear las demoras  se pueden limitar los dominios"
   ]
  },
  {
   "cell_type": "code",
   "execution_count": 1,
   "id": "24a61c1b",
   "metadata": {},
   "outputs": [],
   "source": [
    "import scrapy# importamos scrapy, si en tal caso, no funciona, se debe hacer la instalación de scrapy con pip install scrapy "
   ]
  },
  {
   "cell_type": "code",
   "execution_count": 3,
   "id": "c9b66b55",
   "metadata": {},
   "outputs": [],
   "source": [
    "class Spider12(scrapy.Spider): #se usa el 12 ya que va a scrapear pagina12\n",
    "    name = 'spider12'#acontinuación se ponen los dominios a scrapear \n",
    "    allowed_domains = ['https://www.pagina12.com.ar/']#aquí va el nombre del dominio a escrapear se pueden pasar varias páginas, ya que\n",
    "    #lo que se le esta pasando es una lista, lo que este fuera de este dominio no lo escaneará\n",
    "    custom_settings={'FEED_FORMAT': 'json',\n",
    "                    'FEED_URI':'resultados.json'}\n",
    "    #el feed fotmat sirve para decirle en que tipo de archivo de salida \n",
    "    #luego de solicitar el tipo de archivo de salida, se le indica donde se quiere guardar el archivo, esto se hace con una coma para que se ponga donde \n",
    "    #ya con esto se pone las urls que se quieren analizar, dentro de pagina12.com o de la pagina que se requiera\n",
    "    start_urls= ['https://www.pagina12.com.ar/suplementos/radar-libros',\n",
    "                 'https://www.pagina12.com.ar/suplementos/cash',\n",
    "                 'https://www.pagina12.com.ar/suplementos/radar',\n",
    "                 'https://www.pagina12.com.ar/buenos-aires12']"
   ]
  },
  {
   "cell_type": "code",
   "execution_count": null,
   "id": "fa359264",
   "metadata": {},
   "outputs": [],
   "source": []
  },
  {
   "cell_type": "code",
   "execution_count": null,
   "id": "e742b555",
   "metadata": {},
   "outputs": [],
   "source": []
  },
  {
   "cell_type": "code",
   "execution_count": null,
   "id": "51b68555",
   "metadata": {},
   "outputs": [],
   "source": []
  },
  {
   "cell_type": "code",
   "execution_count": null,
   "id": "8ccba086",
   "metadata": {},
   "outputs": [],
   "source": []
  }
 ],
 "metadata": {
  "kernelspec": {
   "display_name": "Python 3 (ipykernel)",
   "language": "python",
   "name": "python3"
  },
  "language_info": {
   "codemirror_mode": {
    "name": "ipython",
    "version": 3
   },
   "file_extension": ".py",
   "mimetype": "text/x-python",
   "name": "python",
   "nbconvert_exporter": "python",
   "pygments_lexer": "ipython3",
   "version": "3.9.12"
  }
 },
 "nbformat": 4,
 "nbformat_minor": 5
}
