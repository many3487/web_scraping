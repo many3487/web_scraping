{
 "cells": [
  {
   "cell_type": "raw",
   "id": "dce862f2",
   "metadata": {},
   "source": [
    "ejemplos de tesseract-OCR, una biblioteca creada por HP la cual se utiliza para reconocimiento óptico de caracteres\n",
    "es decir que de una imagen se peude sacar las setras o lo que tiene dicha imagen"
   ]
  },
  {
   "cell_type": "code",
   "execution_count": 4,
   "id": "06bf39c5",
   "metadata": {},
   "outputs": [
    {
     "name": "stdout",
     "output_type": "stream",
     "text": [
      "Requirement already satisfied: pytesseract in c:\\users\\asus\\anaconda3\\lib\\site-packages (0.3.10)\n",
      "Requirement already satisfied: packaging>=21.3 in c:\\users\\asus\\anaconda3\\lib\\site-packages (from pytesseract) (21.3)\n",
      "Requirement already satisfied: Pillow>=8.0.0 in c:\\users\\asus\\anaconda3\\lib\\site-packages (from pytesseract) (9.0.1)\n",
      "Requirement already satisfied: pyparsing!=3.0.5,>=2.0.2 in c:\\users\\asus\\anaconda3\\lib\\site-packages (from packaging>=21.3->pytesseract) (3.0.4)\n",
      "Note: you may need to restart the kernel to use updated packages.\n"
     ]
    }
   ],
   "source": [
    "pip install pytesseract"
   ]
  },
  {
   "cell_type": "code",
   "execution_count": 3,
   "id": "5bd8cd0e",
   "metadata": {},
   "outputs": [
    {
     "name": "stdout",
     "output_type": "stream",
     "text": [
      "Requirement already satisfied: pip in c:\\users\\asus\\anaconda3\\lib\\site-packages (21.2.4)\n",
      "Collecting pip\n",
      "  Using cached pip-23.1.2-py3-none-any.whl (2.1 MB)\n",
      "Installing collected packages: pip\n",
      "  Attempting uninstall: pip\n",
      "    Found existing installation: pip 21.2.4\n",
      "    Uninstalling pip-21.2.4:\n",
      "      Successfully uninstalled pip-21.2.4\n",
      "Successfully installed pip-23.1.2\n",
      "Note: you may need to restart the kernel to use updated packages.\n"
     ]
    }
   ],
   "source": [
    "pip install --upgrade pip"
   ]
  },
  {
   "cell_type": "code",
   "execution_count": 11,
   "id": "047f6192",
   "metadata": {},
   "outputs": [
    {
     "ename": "NameError",
     "evalue": "name 'py' is not defined",
     "output_type": "error",
     "traceback": [
      "\u001b[1;31m---------------------------------------------------------------------------\u001b[0m",
      "\u001b[1;31mNameError\u001b[0m                                 Traceback (most recent call last)",
      "Input \u001b[1;32mIn [11]\u001b[0m, in \u001b[0;36m<cell line: 1>\u001b[1;34m()\u001b[0m\n\u001b[1;32m----> 1\u001b[0m \u001b[43mpy\u001b[49m \u001b[38;5;241m-\u001b[39m\u001b[38;5;241m-\u001b[39mversion\n",
      "\u001b[1;31mNameError\u001b[0m: name 'py' is not defined"
     ]
    }
   ],
   "source": [
    "py --version"
   ]
  },
  {
   "cell_type": "code",
   "execution_count": 6,
   "id": "035fea41",
   "metadata": {},
   "outputs": [
    {
     "name": "stdout",
     "output_type": "stream",
     "text": [
      "Collecting ocrd-tesserocr\n",
      "  Downloading ocrd_tesserocr-0.17.0-py3-none-any.whl (54 kB)\n",
      "     ---------------------------------------- 54.5/54.5 kB 2.9 MB/s eta 0:00:00\n",
      "Collecting ocrd>=2.48 (from ocrd-tesserocr)\n",
      "  Downloading ocrd-2.50.0-py3-none-any.whl (75 kB)\n",
      "     ---------------------------------------- 75.9/75.9 kB ? eta 0:00:00\n",
      "Requirement already satisfied: click in c:\\users\\asus\\anaconda3\\lib\\site-packages (from ocrd-tesserocr) (8.0.4)\n",
      "Collecting tesserocr>=2.5.2 (from ocrd-tesserocr)\n",
      "  Using cached tesserocr-2.6.0.tar.gz (58 kB)\n",
      "  Preparing metadata (setup.py): started\n",
      "  Preparing metadata (setup.py): finished with status 'error'\n",
      "Note: you may need to restart the kernel to use updated packages.\n"
     ]
    },
    {
     "name": "stderr",
     "output_type": "stream",
     "text": [
      "  error: subprocess-exited-with-error\n",
      "  \n",
      "  python setup.py egg_info did not run successfully.\n",
      "  exit code: 1\n",
      "  \n",
      "  [28 lines of output]\n",
      "  Failed to extract tesseract version from executable: [WinError 2] El sistema no puede encontrar el archivo especificado\n",
      "  Supporting tesseract v3.04.00\n",
      "  Tesseract major version 3\n",
      "  Traceback (most recent call last):\n",
      "    File \"C:\\Users\\ASUS\\AppData\\Local\\Temp\\pip-install-xnlb81kq\\tesserocr_5338063446334cf49727c4951933ebe6\\setup.py\", line 243, in get_build_args\n",
      "      build_args = package_config()\n",
      "    File \"C:\\Users\\ASUS\\AppData\\Local\\Temp\\pip-install-xnlb81kq\\tesserocr_5338063446334cf49727c4951933ebe6\\setup.py\", line 99, in package_config\n",
      "      p = subprocess.Popen(\n",
      "    File \"C:\\Users\\ASUS\\anaconda3\\lib\\subprocess.py\", line 951, in __init__\n",
      "      self._execute_child(args, executable, preexec_fn, close_fds,\n",
      "    File \"C:\\Users\\ASUS\\anaconda3\\lib\\subprocess.py\", line 1420, in _execute_child\n",
      "      hp, ht, pid, tid = _winapi.CreateProcess(executable, args,\n",
      "  FileNotFoundError: [WinError 2] El sistema no puede encontrar el archivo especificado\n",
      "  \n",
      "  During handling of the above exception, another exception occurred:\n",
      "  \n",
      "  Traceback (most recent call last):\n",
      "    File \"<string>\", line 2, in <module>\n",
      "    File \"<pip-setuptools-caller>\", line 34, in <module>\n",
      "    File \"C:\\Users\\ASUS\\AppData\\Local\\Temp\\pip-install-xnlb81kq\\tesserocr_5338063446334cf49727c4951933ebe6\\setup.py\", line 329, in <module>\n",
      "      ext_modules=[make_extension()],\n",
      "    File \"C:\\Users\\ASUS\\AppData\\Local\\Temp\\pip-install-xnlb81kq\\tesserocr_5338063446334cf49727c4951933ebe6\\setup.py\", line 260, in make_extension\n",
      "      build_args = get_build_args()\n",
      "    File \"C:\\Users\\ASUS\\AppData\\Local\\Temp\\pip-install-xnlb81kq\\tesserocr_5338063446334cf49727c4951933ebe6\\setup.py\", line 252, in get_build_args\n",
      "      build_args = get_tesseract_version()\n",
      "    File \"C:\\Users\\ASUS\\AppData\\Local\\Temp\\pip-install-xnlb81kq\\tesserocr_5338063446334cf49727c4951933ebe6\\setup.py\", line 216, in get_tesseract_version\n",
      "      raise RuntimeError(error)\n",
      "  RuntimeError: Tesseract library not found in LIBPATH: []\n",
      "  [end of output]\n",
      "  \n",
      "  note: This error originates from a subprocess, and is likely not a problem with pip.\n",
      "error: metadata-generation-failed\n",
      "\n",
      "Encountered error while generating package metadata.\n",
      "\n",
      "See above for output.\n",
      "\n",
      "note: This is an issue with the package mentioned above, not pip.\n",
      "hint: See above for details.\n"
     ]
    }
   ],
   "source": [
    "pip install ocrd-tesserocr\n"
   ]
  },
  {
   "cell_type": "code",
   "execution_count": 5,
   "id": "7b1504f6",
   "metadata": {},
   "outputs": [
    {
     "ename": "ModuleNotFoundError",
     "evalue": "No module named 'tesserocr'",
     "output_type": "error",
     "traceback": [
      "\u001b[1;31m---------------------------------------------------------------------------\u001b[0m",
      "\u001b[1;31mModuleNotFoundError\u001b[0m                       Traceback (most recent call last)",
      "Input \u001b[1;32mIn [5]\u001b[0m, in \u001b[0;36m<cell line: 1>\u001b[1;34m()\u001b[0m\n\u001b[1;32m----> 1\u001b[0m \u001b[38;5;28;01mimport\u001b[39;00m \u001b[38;5;21;01mtesserocr\u001b[39;00m \u001b[38;5;66;03m#esta biblioteca realiza reconocimientos ópticos de imagenes \u001b[39;00m\n\u001b[0;32m      2\u001b[0m \u001b[38;5;28;01mimport\u001b[39;00m \u001b[38;5;21;01mnumpy\u001b[39;00m \u001b[38;5;28;01mas\u001b[39;00m \u001b[38;5;21;01mnp\u001b[39;00m \u001b[38;5;66;03m#esta librería me permite manipulación básica de imagenes\u001b[39;00m\n\u001b[0;32m      3\u001b[0m \u001b[38;5;28;01mimport\u001b[39;00m \u001b[38;5;21;01mmatplotlib\u001b[39;00m\u001b[38;5;21;01m.\u001b[39;00m\u001b[38;5;21;01mpyplotl\u001b[39;00m \u001b[38;5;28;01mas\u001b[39;00m \u001b[38;5;21;01mplt\u001b[39;00m \u001b[38;5;66;03m#esta librería sirve para visualizar imagenes\u001b[39;00m\n",
      "\u001b[1;31mModuleNotFoundError\u001b[0m: No module named 'tesserocr'"
     ]
    }
   ],
   "source": [
    "import tesserocr #esta biblioteca realiza reconocimientos ópticos de imagenes \n",
    "import numpy as np #esta librería me permite manipulación básica de imagenes\n",
    "import matplotlib.pyplotl as plt #esta librería sirve para visualizar imagenes\n",
    "from PIL import Image #este me permite cambiar el formato de los archivos\n",
    "%matplotlib inline #este es para mostrar imagenes"
   ]
  },
  {
   "cell_type": "code",
   "execution_count": 13,
   "id": "ee0d525c",
   "metadata": {},
   "outputs": [
    {
     "ename": "SyntaxError",
     "evalue": "invalid syntax (2106202562.py, line 2)",
     "output_type": "error",
     "traceback": [
      "\u001b[1;36m  Input \u001b[1;32mIn [13]\u001b[1;36m\u001b[0m\n\u001b[1;33m    plt.figure=(figsize=(15,5))\u001b[0m\n\u001b[1;37m                       ^\u001b[0m\n\u001b[1;31mSyntaxError\u001b[0m\u001b[1;31m:\u001b[0m invalid syntax\n"
     ]
    }
   ],
   "source": [
    "texto_largo = plt.imread#importación de imagen\n",
    "plt.figure=(figsize=(15,5))\n",
    "plt.imgshow(texto_largo)\n",
    "plt.axis(False)"
   ]
  },
  {
   "cell_type": "code",
   "execution_count": 14,
   "id": "abc27115",
   "metadata": {},
   "outputs": [
    {
     "ename": "NameError",
     "evalue": "name 'tesserocr' is not defined",
     "output_type": "error",
     "traceback": [
      "\u001b[1;31m---------------------------------------------------------------------------\u001b[0m",
      "\u001b[1;31mNameError\u001b[0m                                 Traceback (most recent call last)",
      "Input \u001b[1;32mIn [14]\u001b[0m, in \u001b[0;36m<cell line: 1>\u001b[1;34m()\u001b[0m\n\u001b[1;32m----> 1\u001b[0m text_ocr \u001b[38;5;241m=\u001b[39m \u001b[43mtesserocr\u001b[49m\u001b[38;5;241m.\u001b[39mfile_to_text(\u001b[38;5;124m'\u001b[39m\u001b[38;5;124mtextolargo.png\u001b[39m\u001b[38;5;124m'\u001b[39m)\n",
      "\u001b[1;31mNameError\u001b[0m: name 'tesserocr' is not defined"
     ]
    }
   ],
   "source": [
    "text_ocr = tesserocr.file_to_text('textolargo.png',lang='spa') #a este objeto se le pasa la imagen y se le debe decir en que lenguaje esta escrito\n"
   ]
  },
  {
   "cell_type": "code",
   "execution_count": 15,
   "id": "003d1a3b",
   "metadata": {},
   "outputs": [
    {
     "ename": "NameError",
     "evalue": "name 'texto_ocr' is not defined",
     "output_type": "error",
     "traceback": [
      "\u001b[1;31m---------------------------------------------------------------------------\u001b[0m",
      "\u001b[1;31mNameError\u001b[0m                                 Traceback (most recent call last)",
      "Input \u001b[1;32mIn [15]\u001b[0m, in \u001b[0;36m<cell line: 1>\u001b[1;34m()\u001b[0m\n\u001b[1;32m----> 1\u001b[0m \u001b[38;5;28mtype\u001b[39m(\u001b[43mtexto_ocr\u001b[49m)\n",
      "\u001b[1;31mNameError\u001b[0m: name 'texto_ocr' is not defined"
     ]
    }
   ],
   "source": [
    "type(texto_ocr)"
   ]
  },
  {
   "cell_type": "code",
   "execution_count": null,
   "id": "738bf46d",
   "metadata": {},
   "outputs": [],
   "source": [
    "img = plt.imread('imagen de prueba.png')"
   ]
  },
  {
   "cell_type": "code",
   "execution_count": 16,
   "id": "0e954550",
   "metadata": {},
   "outputs": [
    {
     "ename": "NameError",
     "evalue": "name 'plt' is not defined",
     "output_type": "error",
     "traceback": [
      "\u001b[1;31m---------------------------------------------------------------------------\u001b[0m",
      "\u001b[1;31mNameError\u001b[0m                                 Traceback (most recent call last)",
      "Input \u001b[1;32mIn [16]\u001b[0m, in \u001b[0;36m<cell line: 1>\u001b[1;34m()\u001b[0m\n\u001b[1;32m----> 1\u001b[0m \u001b[43mplt\u001b[49m\u001b[38;5;241m.\u001b[39mimshow(img)\n",
      "\u001b[1;31mNameError\u001b[0m: name 'plt' is not defined"
     ]
    }
   ],
   "source": [
    "plt.imshow(img)"
   ]
  },
  {
   "cell_type": "code",
   "execution_count": 17,
   "id": "fa959d63",
   "metadata": {},
   "outputs": [
    {
     "ename": "SyntaxError",
     "evalue": "invalid syntax (3083729111.py, line 1)",
     "output_type": "error",
     "traceback": [
      "\u001b[1;36m  Input \u001b[1;32mIn [17]\u001b[1;36m\u001b[0m\n\u001b[1;33m    texto_ocr=tesserocr..file_to_text('imagen de prueba.png', lang?spa)\u001b[0m\n\u001b[1;37m                        ^\u001b[0m\n\u001b[1;31mSyntaxError\u001b[0m\u001b[1;31m:\u001b[0m invalid syntax\n"
     ]
    }
   ],
   "source": [
    "texto_ocr=tesserocr..file_to_text('imagen de prueba.png', lang?spa)"
   ]
  },
  {
   "cell_type": "code",
   "execution_count": null,
   "id": "5edc12ea",
   "metadata": {},
   "outputs": [],
   "source": [
    "print(texto_ocr)#este fallará ya que tiene un fondo oscro y la letra esta en blanco ademas los bordes estan pixelados  para esto se debe hacer una manipulación sobre la imagen"
   ]
  },
  {
   "cell_type": "code",
   "execution_count": 18,
   "id": "27d60b4d",
   "metadata": {},
   "outputs": [
    {
     "ename": "NameError",
     "evalue": "name 'img' is not defined",
     "output_type": "error",
     "traceback": [
      "\u001b[1;31m---------------------------------------------------------------------------\u001b[0m",
      "\u001b[1;31mNameError\u001b[0m                                 Traceback (most recent call last)",
      "Input \u001b[1;32mIn [18]\u001b[0m, in \u001b[0;36m<cell line: 1>\u001b[1;34m()\u001b[0m\n\u001b[1;32m----> 1\u001b[0m \u001b[43mimg\u001b[49m\u001b[38;5;241m.\u001b[39mshape\n",
      "\u001b[1;31mNameError\u001b[0m: name 'img' is not defined"
     ]
    }
   ],
   "source": [
    "img.shape#con esto veo las dimensiones de la imagen \n",
    "#debe salir un ejemplo (68,228,4) las primeras son las dimensiones  y el ultimo son los canales lso ganales son rgb y h que es la transparencia"
   ]
  },
  {
   "cell_type": "code",
   "execution_count": null,
   "id": "9baedc6b",
   "metadata": {},
   "outputs": [],
   "source": [
    "img_rgb=img[:,:,:3]# AQUI SE VA A DESCARTAR la imagen del rgb aqui nos quedamos con los pixeles y me quedaría con las 3 primeras escalas de la imagen, es decir sin la capa de transparencia es decir solo el RGB"
   ]
  },
  {
   "cell_type": "code",
   "execution_count": null,
   "id": "b36645b0",
   "metadata": {},
   "outputs": [],
   "source": [
    "img_rgb.shape #aquí ya me debe mostrar la imagen, modificada "
   ]
  },
  {
   "cell_type": "code",
   "execution_count": null,
   "id": "1acf5da7",
   "metadata": {},
   "outputs": [],
   "source": [
    "plt.imshow(img_rgb)#muestro la imagen"
   ]
  },
  {
   "cell_type": "code",
   "execution_count": null,
   "id": "7d6e8068",
   "metadata": {},
   "outputs": [],
   "source": [
    "img_rgb[0,0,0]#invertir los tonos para que queden bien las letras\n",
    "#esto nos enviará un valor dos formatos en donde viene la info uno es que llegue de 0 a 1 o qu ellegue a un entero que lelgue de 0 a 255\n",
    "#dependiendo esto se deben hacer distintos procesos"
   ]
  },
  {
   "cell_type": "code",
   "execution_count": null,
   "id": "d1d40454",
   "metadata": {},
   "outputs": [],
   "source": [
    "img_inv =1-img_rgb #se invierten los colores de la imagen\n"
   ]
  },
  {
   "cell_type": "code",
   "execution_count": null,
   "id": "6ca58453",
   "metadata": {},
   "outputs": [],
   "source": [
    "plt.imshow(img_inv)#se ve la imagen con color verge"
   ]
  },
  {
   "cell_type": "code",
   "execution_count": null,
   "id": "5f8c73e3",
   "metadata": {},
   "outputs": [],
   "source": [
    "img_gr = img_inv.mean(axis=2) #ahora se peude convertir la imagen en escala de grises \n",
    "#el axis es para calcular la media de cada pixel se optendrá un unico canal y se trendra el promedio del rgb "
   ]
  },
  {
   "cell_type": "code",
   "execution_count": null,
   "id": "afc790f8",
   "metadata": {},
   "outputs": [],
   "source": [
    "plt.imshow(img_gr,cmap='Greys_r')#ya con esto muestro la imagen con fondo blanco"
   ]
  },
  {
   "cell_type": "code",
   "execution_count": null,
   "id": "450954bd",
   "metadata": {},
   "outputs": [],
   "source": [
    "tesserocr.image_to_text(img_gr, lang='spa')#aquíenviara un error ya que no tiene el atributo save es decir que no se ha guardado la imagen "
   ]
  },
  {
   "cell_type": "code",
   "execution_count": null,
   "id": "660c1878",
   "metadata": {},
   "outputs": [],
   "source": [
    "img_pil =Image.fromarray(np.uint8(img_gr*255))#se crea un objeto de image se convierte de array y se pasa de numpy a unit8  se hace es asar e formato de pixeles que va de 0 a 1 en float ahora va de 0 a 255 para esto solo se necesita 8 bits solo se necesita un ui8"
   ]
  },
  {
   "cell_type": "code",
   "execution_count": null,
   "id": "2300e543",
   "metadata": {},
   "outputs": [],
   "source": [
    "type(img_pil)#debe aparecer PIL.Image-Image"
   ]
  },
  {
   "cell_type": "code",
   "execution_count": null,
   "id": "8caeef4e",
   "metadata": {},
   "outputs": [],
   "source": [
    "print(tesserocr.image_to_text(img_pil, lang='spa'))"
   ]
  },
  {
   "cell_type": "code",
   "execution_count": null,
   "id": "fbf82603",
   "metadata": {},
   "outputs": [],
   "source": [
    "img_pil_inv =Image.fromarray(np.uint8(img_gr*255))"
   ]
  },
  {
   "cell_type": "code",
   "execution_count": null,
   "id": "082d9524",
   "metadata": {},
   "outputs": [],
   "source": [
    "print(tesserocr.image_to_text(img_pil_inv, lang='spa'))"
   ]
  },
  {
   "cell_type": "code",
   "execution_count": null,
   "id": "739b54c4",
   "metadata": {},
   "outputs": [],
   "source": []
  },
  {
   "cell_type": "code",
   "execution_count": null,
   "id": "fa39a205",
   "metadata": {},
   "outputs": [],
   "source": []
  },
  {
   "cell_type": "code",
   "execution_count": null,
   "id": "1ab288cd",
   "metadata": {},
   "outputs": [],
   "source": []
  },
  {
   "cell_type": "code",
   "execution_count": null,
   "id": "5e2b182c",
   "metadata": {},
   "outputs": [],
   "source": []
  },
  {
   "cell_type": "code",
   "execution_count": null,
   "id": "8dac54e4",
   "metadata": {},
   "outputs": [],
   "source": []
  },
  {
   "cell_type": "raw",
   "id": "466bf25a",
   "metadata": {},
   "source": []
  }
 ],
 "metadata": {
  "kernelspec": {
   "display_name": "Python 3 (ipykernel)",
   "language": "python",
   "name": "python3"
  },
  "language_info": {
   "codemirror_mode": {
    "name": "ipython",
    "version": 3
   },
   "file_extension": ".py",
   "mimetype": "text/x-python",
   "name": "python",
   "nbconvert_exporter": "python",
   "pygments_lexer": "ipython3",
   "version": "3.9.12"
  }
 },
 "nbformat": 4,
 "nbformat_minor": 5
}
