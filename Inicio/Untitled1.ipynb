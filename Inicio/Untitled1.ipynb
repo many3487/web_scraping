{
 "cells": [
  {
   "cell_type": "raw",
   "id": "dd16947a",
   "metadata": {},
   "source": [
    "si  se realizan varias peticiones a un servidor y este servidor cuenta con un bloqueo de ips puede que bloqueee la ip de donde se esta trabajando y por este motivo se deben usar proxy\n",
    "\n",
    "\n",
    "el proxy puede enmascarar la ip \n",
    "un proxy es como un intermediario entre nosotros y un servidor web  pero con la diferencia de que al hacer scraping , primero la información deberá pasar por un proxy y el servidor verá la peticion del proxy más no de nuestra ip"
   ]
  },
  {
   "cell_type": "code",
   "execution_count": 2,
   "id": "0bd0e057",
   "metadata": {},
   "outputs": [],
   "source": [
    "import requests\n",
    "import re"
   ]
  },
  {
   "cell_type": "code",
   "execution_count": 3,
   "id": "5311f19e",
   "metadata": {},
   "outputs": [],
   "source": [
    "def get_my_ip(url='http://cualesmiip.com', proxies=None):\n",
    "    try:\n",
    "        r = requests.get(url=url, proxies=proxies)\n",
    "    except Exception as e:\n",
    "        print(\"Status Code: \", e)\n",
    "        return None\n",
    "    if r.status_code != 200:\n",
    "        print(\"Status Code: \", r.status_codeode )\n",
    "        return None\n",
    "    \n",
    "    regex= re.compile(r'(\\d{1,3}\\.\\d{1,3}\\.\\d{1,3}\\.\\d{1,3})')\n",
    "    my_ip= regex.findall(r.text)\n",
    "    return my_ip[0] if my_ip else None"
   ]
  },
  {
   "cell_type": "code",
   "execution_count": 20,
   "id": "3cf49dc5",
   "metadata": {},
   "outputs": [
    {
     "data": {
      "text/plain": [
       "'092.092.212.137'"
      ]
     },
     "execution_count": 20,
     "metadata": {},
     "output_type": "execute_result"
    }
   ],
   "source": [
    "get_my_ip()#optengo mi ip"
   ]
  },
  {
   "cell_type": "raw",
   "id": "38b960e8",
   "metadata": {},
   "source": [
    "con esta función obtengo mi ip\n",
    "proxies gratuitos https://free-proxy-list.net/\n"
   ]
  },
  {
   "cell_type": "code",
   "execution_count": 18,
   "id": "da21be93",
   "metadata": {},
   "outputs": [],
   "source": [
    "proxy_dict = {'http':'http//5.190.229.170:8080',\n",
    "             'https':'https://5.190.229.170:8080'}#dentro del diccionario se ponen las direcciones de los proxies \n",
    "# aqui se debe poner el http con el proxi de la pagina con el puerto "
   ]
  },
  {
   "cell_type": "code",
   "execution_count": 19,
   "id": "7cc61e9e",
   "metadata": {},
   "outputs": [
    {
     "name": "stdout",
     "output_type": "stream",
     "text": [
      "Status Code:  HTTPConnectionPool(host='http', port=80): Max retries exceeded with url: http://cualesmiip.com/ (Caused by ProxyError('Cannot connect to proxy.', NewConnectionError('<urllib3.connection.HTTPConnection object at 0x00000211BC1D4F10>: Failed to establish a new connection: [Errno 11001] getaddrinfo failed')))\n"
     ]
    }
   ],
   "source": [
    "get_my_ip(proxies=proxy_dict) #aqui le envio el diccionario y el intentara ingresar a ese proxy "
   ]
  },
  {
   "cell_type": "code",
   "execution_count": 21,
   "id": "bef31261",
   "metadata": {},
   "outputs": [],
   "source": [
    "socks_proxy_dict={'http':'socks4://187.95.80.137:3629',\n",
    "                  'https':'socks4//187.95.80.137:3629'\n",
    "                 }#ahora vamos con las proxies de tipo socks se deb e poner la version de socks con la que se va a trabajar en este caso con socks 4\n",
    "#socks 5 para usar se necesita la libreria que es PySocks en la misma página se puede poner socks proxy \n",
    "#allí se vera la version de socks\n",
    "\n",
    "#de la página se debe escoger la ip y el puerto  y dentro de esto se debe escribir el 'http' :'socks4://ip:puerto' de igual forma con el puerto https"
   ]
  },
  {
   "cell_type": "code",
   "execution_count": 22,
   "id": "7a954521",
   "metadata": {},
   "outputs": [
    {
     "name": "stdout",
     "output_type": "stream",
     "text": [
      "Status Code:  SOCKSHTTPConnectionPool(host='cualesmiip.com', port=80): Max retries exceeded with url: / (Caused by NewConnectionError('<urllib3.contrib.socks.SOCKSConnection object at 0x00000211BC06ABB0>: Failed to establish a new connection: [WinError 10060] Se produjo un error durante el intento de conexión ya que la parte conectada no respondió adecuadamente tras un periodo de tiempo, o bien se produjo un error en la conexión establecida ya que el host conectado no ha podido responder'))\n"
     ]
    }
   ],
   "source": [
    "get_my_ip(proxies=socks_proxy_dict)"
   ]
  },
  {
   "cell_type": "code",
   "execution_count": 23,
   "id": "36b5791c",
   "metadata": {},
   "outputs": [
    {
     "data": {
      "text/plain": [
       "'092.092.212.137'"
      ]
     },
     "execution_count": 23,
     "metadata": {},
     "output_type": "execute_result"
    }
   ],
   "source": []
  },
  {
   "cell_type": "code",
   "execution_count": null,
   "id": "0fb709d9",
   "metadata": {},
   "outputs": [],
   "source": []
  }
 ],
 "metadata": {
  "kernelspec": {
   "display_name": "Python 3 (ipykernel)",
   "language": "python",
   "name": "python3"
  },
  "language_info": {
   "codemirror_mode": {
    "name": "ipython",
    "version": 3
   },
   "file_extension": ".py",
   "mimetype": "text/x-python",
   "name": "python",
   "nbconvert_exporter": "python",
   "pygments_lexer": "ipython3",
   "version": "3.9.12"
  }
 },
 "nbformat": 4,
 "nbformat_minor": 5
}
